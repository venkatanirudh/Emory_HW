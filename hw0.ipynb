{
 "cells": [
  {
   "cell_type": "code",
   "execution_count": 3,
   "id": "b21b81fc",
   "metadata": {},
   "outputs": [
    {
     "name": "stdout",
     "output_type": "stream",
     "text": [
      "10\n"
     ]
    },
    {
     "data": {
      "text/plain": [
       "[-1, -1, -1, 0, 0, 1, 0, 0, 1, -1]"
      ]
     },
     "execution_count": 3,
     "metadata": {},
     "output_type": "execute_result"
    }
   ],
   "source": [
    "#6. Consider a 3-valued random variable X such that P (X = 1) = 0.35, P (X = 0) = 0.45 and P (X = −1) = 0.2. Write a Python function draw samples that takes in an integer n and draws n random samples from X.\n",
    "\n",
    "import numpy as np\n",
    "\n",
    "def draw_samples(n):\n",
    "    a=[]\n",
    "    for i in range(0,n):\n",
    "        s=np.random.choice(np.arange(-1, 2), p=[0.2,0.45,0.35])\n",
    "        a.append(s)\n",
    "    return(a)\n",
    "\n",
    "n=int(input())\n",
    "draw_samples(n)\n"
   ]
  },
  {
   "cell_type": "code",
   "execution_count": 4,
   "id": "78c50579",
   "metadata": {},
   "outputs": [
    {
     "name": "stdout",
     "output_type": "stream",
     "text": [
      "30\n"
     ]
    }
   ],
   "source": [
    "#7. Given a numpy 1-d array (e.g., array([1,2,3,4])), write a Python function sum squares that takes the array and computes the sum of squares of this array using numpy.dot\n",
    "\n",
    "import numpy as np\n",
    "\n",
    "def sum_squares(a):\n",
    "    a1=np.dot(a,a)\n",
    "    print(a1)\n",
    "\n",
    "a=([1,2,3,4])\n",
    "sum_squares(a)"
   ]
  },
  {
   "cell_type": "code",
   "execution_count": 7,
   "id": "847d670e",
   "metadata": {},
   "outputs": [
    {
     "name": "stdout",
     "output_type": "stream",
     "text": [
      "5\n"
     ]
    },
    {
     "data": {
      "text/plain": [
       "array([0.83967007, 1.16032993])"
      ]
     },
     "execution_count": 7,
     "metadata": {},
     "output_type": "execute_result"
    }
   ],
   "source": [
    "#8.Your 3-year-old daughter and 7-year-old son are troublemakers. While you are busy grading assignments, they came up with this game of mixing her apple juice and his oreo milkshake. She first pours 35% of her apple juice into the cup that has his milkshake, then he pours 20% of whatever-it-is-now in the milkshake into the apple juice cup. They started with exactly 1 cup of apple juice and 1 cup of oreo milkshake. Write a python function troublemakers that takes in an integer n denoting the number of cycles and returns a 1-d numpy array of 2 values with the first value containing the liquid in the apple juice cup and the second value containing the liquid in the milkshake cup.\n",
    "\n",
    "def troublemakers(n):        \n",
    "    c1=1\n",
    "    c2=1\n",
    "    x=c1*0.35
    "    y=c2*0.20
    "    for i in range(0,n):\n",
    "        c2=c2+x\n",
    "        c1=c1-x\n",
    "        c1=c1+y\n",
    "        c2=c2-y\n",
    "    return np.array([c1,c2])\n",
    "\n",
    "n=int(input())\n",
    "troublemakers(n)"
   ]
  },
  {
   "cell_type": "code",
   "execution_count": null,
   "id": "684af94d",
   "metadata": {},
   "outputs": [],
   "source": []
  }
 ],
 "metadata": {
  "kernelspec": {
   "display_name": "Python 3 (ipykernel)",
   "language": "python",
   "name": "python3"
  },
  "language_info": {
   "codemirror_mode": {
    "name": "ipython",
    "version": 3
   },
   "file_extension": ".py",
   "mimetype": "text/x-python",
   "name": "python",
   "nbconvert_exporter": "python",
   "pygments_lexer": "ipython3",
   "version": "3.11.4"
  }
 },
 "nbformat": 4,
 "nbformat_minor": 5
}
